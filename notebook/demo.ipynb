{
  "cells": [
    {
      "cell_type": "markdown",
      "metadata": {},
      "source": [
        "# Diffusion-Scheduled Denoising Autoencoder for Anomaly Detection\n",
        "\n",
        "This notebook demonstrates our anomaly detection method introduced in the KDD 2025 paper.\n",
        "\n",
        "It includes: training, inference, anomaly scoring, and evaluation on a sample dataset.\n",
        "\n",
        "📄 [Paper DOI](https://doi.org/10.1145/3711896.3736910)  \n",
        "📦 [GitHub Repo](https://github.com/sattarov/AnoDDAE)\n",
        "📄 [Arxiv Link](...)  \n"
      ]
    },
    {
      "cell_type": "markdown",
      "id": "28cd19c0",
      "metadata": {},
      "source": [
        "# Motivation\n",
        "\n",
        "The detection of anomalies is a fundamental challenge in data science with critical applications in cybersecurity [43, 63], manufacturing [26, 35], finance [2, 22], and healthcare [14]. Adding noise denotes a key factor in deep learning-based anomaly detection [4, 28]. The type of noise introduced, its magnitude, and spatial distribution, directly affect a model’s ability to discriminate between regular observations and anomalies. \n",
        "\n",
        "The effect of noise scheduling on anomaly detection is illustrated in Fig. below. Using a small timestep noise (T = 50), the model preserves the data manifold and improves generalization. In contrast, a large timestep noise (T = 1000) introduces ‘confusion samples’ that distort the model’s alignment with the original data distribution. The observation highlights the impact of integrating scheduled denoising into the autoencoder framework."
      ]
    },
    {
      "cell_type": "markdown",
      "id": "21d69589",
      "metadata": {},
      "source": [
        "Decision boundaries of anomaly scores on a toy dataset learned by DDAE with small (T = 50) and large (T = 1000)\n",
        "noise magnitudes. Each subfigure shows an explanatory schematic (left) and decision boundary (right). The dashed blue line\n",
        "represents the original data boundary, while arrows indicate reconstruction direction. With small noise (a), the model preserves the data manifold, enhancing generalization. High noise levels (b) introduce “confusion samples”, causing the distortion of decision boundary, misaligning the model with the true data distribution."
      ]
    },
    {
      "cell_type": "markdown",
      "id": "9356f745",
      "metadata": {},
      "source": [
        "![Model Architecture](noise_view_50.png)\n",
        "![Model Architecture](noise_view_1000.png)"
      ]
    },
    {
      "cell_type": "code",
      "execution_count": null,
      "id": "3feba490",
      "metadata": {},
      "outputs": [],
      "source": [
        "import numpy as np\n",
        "import matplotlib.pyplot as plt\n",
        "import torch\n",
        "import torch.nn as nn\n",
        "from torch.optim import Adam\n",
        "from torch.utils.data import DataLoader\n",
        "from sklearn.metrics import roc_auc_score, precision_recall_curve, auc\n",
        "from sklearn.preprocessing import StandardScaler\n",
        "import math\n",
        "\n",
        "# Import necessary modules\n",
        "from data import split_data\n",
        "from utils import set_seed, evaluate_anomaly_detection"
      ]
    },
    {
      "cell_type": "markdown",
      "id": "60ac0171",
      "metadata": {},
      "source": [
        "## 1. Load and preprocess dataset\n",
        "We use a dataset from ADBench (e.g., 17_InternetAds.npz) for illustration."
      ]
    },
    {
      "cell_type": "code",
      "execution_count": 9,
      "id": "af146964",
      "metadata": {},
      "outputs": [],
      "source": [
        "data = np.load(\"17_InternetAds.npz\", allow_pickle=True)\n",
        "X, y = data['X'], data['y']\n",
        "# Preprocess the data\n",
        "scaler = StandardScaler()\n",
        "X = scaler.fit_transform(X)\n",
        "# split the data into training and test sets\n",
        "x_train, x_test, y_train, y_test = split_data(X, y, train_setting=\"semi-supervised\")\n",
        "# Set random seed for reproducibility\n",
        "set_seed(42)\n",
        "\n",
        "# convert to tensors\n",
        "x_train = torch.tensor(x_train, dtype=torch.float32)\n",
        "x_test = torch.tensor(x_test, dtype=torch.float32)\n",
        "y_train = torch.tensor(y_train, dtype=torch.float32)\n",
        "y_test = torch.tensor(y_test, dtype=torch.float32)\n"
      ]
    },
    {
      "cell_type": "markdown",
      "id": "f55b6dbc",
      "metadata": {},
      "source": [
        "## 2. Initialize the DDAE model\n",
        "Diffusion-Scheduled Denoising Autoencoder integrates diffusion-based noise scheduling into the denoising autoencoder framework to enhance anomaly detection in tabular data. Traditional DAEs apply fixed-magnitude additive noise, whereas diffusion models apply scheduled noise injection, gradually increasing noise over multiple steps. Unlike conventional DAEs that rely on static noise addition, DDAE adaptively modulates noise levels using a diffusion scheduler, improving anomaly discrimination. \n",
        "\n",
        "The Figure below illustrates the comparison of noise addition and denoising mechanisms in Denoising Autoencoder (DAE), Denoising Diffusion Probabilistic Models (DDPM), and Diffusion-Scheduled Denoising Autoencoder (DDAE). DAE applies fixed-magnitude noise, training an autoencoder to reconstruct the original data. DDPM progressively adds and removes noise across multiple steps. DDAE merges both approaches, incorporating DDPM’s scheduled noise addition while  retaining DAE’s reconstruction objective."
      ]
    },
    {
      "cell_type": "markdown",
      "id": "7c74ad55",
      "metadata": {},
      "source": [
        "![Model Architecture](model_comparison.png)"
      ]
    },
    {
      "cell_type": "markdown",
      "id": "aafb493f",
      "metadata": {},
      "source": [
        "### 2.1 Diffusion Scheduler ..."
      ]
    },
    {
      "cell_type": "code",
      "execution_count": 15,
      "id": "105b725c",
      "metadata": {},
      "outputs": [],
      "source": [
        "\n",
        "class DiffusionScheduler:\n",
        "    \"\"\"\n",
        "    A class to handle the forward diffusion process in a diffusion model.\n",
        "    This class initializes the noise schedule and provides methods to sample from the forward diffusion process.\n",
        "    \"\"\"\n",
        "    def __init__(self, num_timesteps, device, beta_start=1e-4, beta_end=0.02, scheduler='linear'):\n",
        "        self.num_timesteps = num_timesteps\n",
        "        self.device = device\n",
        "        self.beta_start = beta_start\n",
        "        self.beta_end = beta_end\n",
        "\n",
        "        # initialize beta and alpha values\n",
        "        self.beta = self.init_scheduler(scheduler=scheduler).to(device)\n",
        "        # self.beta = torch.linspace(beta_start, beta_end, num_timesteps).to(device)\n",
        "        self.alpha = 1.0 - self.beta\n",
        "        self.alpha_bar = torch.cumprod(self.alpha, dim=0)\n",
        "\n",
        "    def q_sample(self, x_0, t):\n",
        "        \"\"\"Forward diffusion process: Sample x_t given x_0.\"\"\"\n",
        "        noise = torch.randn_like(x_0)\n",
        "        alpha_bar_t = self.alpha_bar[t].view(-1, 1)\n",
        "        return torch.sqrt(alpha_bar_t) * x_0 + torch.sqrt(1 - alpha_bar_t) * noise, noise\n",
        "    \n",
        "    def init_scheduler(self, scheduler):\n",
        "        \"\"\"\n",
        "        Initialize the scheduler.\n",
        "        \n",
        "        Parameters:\n",
        "            scheduler (str): Name of the scheduler.\n",
        "            \n",
        "        Returns:\n",
        "            callable: Scheduler function.\n",
        "        \"\"\"\n",
        "        if scheduler == 'linear':\n",
        "            return self.linear_noise_schedule(timesteps=self.num_timesteps, beta_start=self.beta_start, beta_end=self.beta_end)\n",
        "        elif scheduler == 'cosine':\n",
        "            return self.cosine_noise_schedule(timesteps=self.num_timesteps)\n",
        "        else:\n",
        "            raise ValueError(f\"Invalid scheduler: {scheduler}\")\n",
        "            \n",
        "    def linear_noise_schedule(self, timesteps, beta_start=0.0001, beta_end=0.02):\n",
        "        \"\"\"\n",
        "        Generates a linear noise schedule.\n",
        "        \n",
        "        Parameters:\n",
        "            timesteps (int): Total number of timesteps.\n",
        "            beta_start (float): Initial beta value.\n",
        "            beta_end (float): Final beta value.\n",
        "            \n",
        "        Returns:\n",
        "            np.ndarray: Array of beta values for each timestep.\n",
        "        \"\"\"\n",
        "        return torch.linspace(beta_start, beta_end, timesteps)\n",
        "    \n",
        "    def cosine_noise_schedule(self, timesteps, s=0.008):\n",
        "        \"\"\"\n",
        "        Generates a cosine noise schedule.\n",
        "        \n",
        "        Parameters:\n",
        "            timesteps (int): Total number of timesteps.\n",
        "            s (float): Small offset to prevent division by zero.\n",
        "            \n",
        "        Returns:\n",
        "            np.ndarray: Array of alpha_bar values for each timestep.\n",
        "        \"\"\"\n",
        "        steps = torch.arange(timesteps + 1)\n",
        "        f = lambda t: torch.cos((t / timesteps + s) / (1 + s) * torch.pi / 2) ** 2\n",
        "        alphas_bar = f(steps) / f(torch.zeros(1))\n",
        "        return alphas_bar[:-1]\n"
      ]
    },
    {
      "cell_type": "markdown",
      "id": "737b4498",
      "metadata": {},
      "source": [
        "### 2.1 Denoiser model\n",
        "\n",
        "The Denoiser learns to recover clean inputs from their corrupted versions. It comprises an encoder–decoder architecture, where the encoder 𝑓𝜃 maps an input x ∈R𝑑 to a lower-dimensional latent representation z ∈R𝑘, with 𝑘 < 𝑑, and the decoder 𝑔𝜙 reconstructs the input as x = 𝑔𝜙(z)."
      ]
    },
    {
      "cell_type": "code",
      "execution_count": 10,
      "id": "db593c72",
      "metadata": {},
      "outputs": [],
      "source": [
        "\n",
        "class DiffusionDenoiser(nn.Module):\n",
        "    def __init__(self, input_dim, hidden_dims=[1024], time_emb_dim=16, activation='lrelu', time_emb_type='sinusoidal'):\n",
        "        super(DiffusionDenoiser, self).__init__()\n",
        "        # Timestep embedding: learnable or sinusoidal\n",
        "        if time_emb_type == 'learnable':\n",
        "            self.timestep_embedding = nn.Linear(1, time_emb_dim)\n",
        "        elif time_emb_type == 'sinusoidal':\n",
        "            self.timestep_embedding = self.sine_cosine_transform_timesteps\n",
        "        else:\n",
        "            raise ValueError(f\"Invalid time_embedding: {time_emb_type}\")\n",
        "\n",
        "        # Network architecture\n",
        "        self.time_emb_dim = time_emb_dim\n",
        "        self.time_emb_type = time_emb_type\n",
        "\n",
        "        # Main network\n",
        "        layers = []\n",
        "\n",
        "        # case when timestep embedding are not used\n",
        "        if time_emb_dim > 0:\n",
        "            prev_dim = input_dim + time_emb_dim\n",
        "        else:\n",
        "            prev_dim = input_dim\n",
        "\n",
        "        for hidden_dim in hidden_dims:\n",
        "            layers.append(nn.Linear(prev_dim, hidden_dim))\n",
        "            if activation == 'relu':\n",
        "                layers.append(nn.ReLU())\n",
        "            elif activation == 'sigmoid':\n",
        "                layers.append(nn.Sigmoid())\n",
        "            elif activation == 'tanh':\n",
        "                layers.append(nn.Tanh())\n",
        "            elif activation == 'lrelu':\n",
        "                layers.append(nn.LeakyReLU())            \n",
        "            prev_dim = hidden_dim\n",
        "        layers.append(nn.Linear(prev_dim, input_dim))  # Predict noise\n",
        "        self.network = nn.Sequential(*layers)\n",
        "\n",
        "    def forward(self, x, t):\n",
        "        # Embed t\n",
        "        if self.time_emb_type == 'learnable':\n",
        "            t = t.unsqueeze(1)  # Ensure t has shape (batch_size, 1)\n",
        "        t_embedded = self.timestep_embedding(t)  # Shape: (batch_size, embed_dim)\n",
        "        \n",
        "        # Concatenate x and embedded t\n",
        "        if self.time_emb_dim > 0:\n",
        "            x = torch.cat([x, t_embedded], dim=1)  # Shape: (batch_size, input_dim + embed_dim)\n",
        "\n",
        "        # Pass through the network\n",
        "        return self.network(x)  # Predict noise\n",
        "    \n",
        "    # define sinusodial time step embedding\n",
        "    def sine_cosine_transform_timesteps(self, timesteps, max_period=10000):\n",
        "        \n",
        "        # dimension of output\n",
        "        dim_out = self.time_emb_dim\n",
        "\n",
        "        # half output dimension\n",
        "        half_dim_out = dim_out // 2\n",
        "\n",
        "        # determine tensor of frequencies\n",
        "        freqs = torch.exp(-math.log(max_period) * torch.arange(start=0, end=half_dim_out, dtype=torch.float32) / half_dim_out)\n",
        "\n",
        "        # push to compute device\n",
        "        freqs = freqs.to(device=timesteps.device)\n",
        "\n",
        "        # create timestep vs. frequency grid\n",
        "        args = timesteps[:, None].float() * freqs[None]\n",
        "\n",
        "        # creating the time embedding\n",
        "        time_embedding = torch.cat([torch.cos(args), torch.sin(args)], dim=-1)\n",
        "\n",
        "        # case: odd output dimension\n",
        "        if dim_out % 2:\n",
        "            # append additional dimension\n",
        "            time_embedding = torch.cat([time_embedding, torch.zeros_like(time_embedding[:, :1])], dim=-1)\n",
        "\n",
        "        # return timestep embedding\n",
        "        return time_embedding  "
      ]
    },
    {
      "cell_type": "markdown",
      "id": "d737d972",
      "metadata": {},
      "source": [
        "### 2.3 DDAE model \n",
        "Traditional reconstruction-based models, such as autoencoders, have demonstrated strong performance in anomaly detection by learning to reconstruct normal data while assigning higher reconstruction errors to anomalies. In contrast, diffusion models have shown remarkable success in modeling complex data distributions through progressive noise injection. The diffusion-scheduled denoising autoencoder (DDAE) takes advantage of both approaches by integrating diffusion-based noise scheduling into an autoencoder framework. The DDAE consists of the following three components as illustrated in Fig. 3 and described in the following:\n",
        "\n",
        "1. **Scheduled Noise Addition**. DDAE replaces static noise addition with a progressive forward diffusion process. At each timestep 𝑡, noise is added incrementally to the input, generating a perturbed sample x𝑡 as defined in Eq. 2. This scheduling produces a smooth degradation from clean data to pure noise in 𝑇 steps, allowing the model to learn reconstruction over varying noise intensities.\n",
        "2. **Denoising with Timestep Conditioning**. DDAE employs a feedforward encoder–decoder architecture to reconstruct the original input x0 from x𝑡. Timestep information is encoded through sinusoidal position embeddings e𝑡, following Nichol and Dhariwal [39], and concatenated with x𝑡 prior to encoding. The encoder computes a latent representationz = 𝑓𝜃(x𝑡 ⊕e𝑡), which the decoder maps back to a denoised estimate x0 = 𝑔𝜙(z). The model is trained to minimize the mean squared reconstruction loss, as defined by:\n",
        "3. **Anomaly Scoring**. Samples that deviate from the learned distribution result in higher reconstruction errors, particularly under high noise conditions. DDAE computes anomaly scores as the cumulative mean squared reconstruction error across all diffusion steps 𝑇 , as defined by:"
      ]
    },
    {
      "cell_type": "markdown",
      "id": "f281734b",
      "metadata": {},
      "source": [
        "![DDAE Architecture](architecture_overview.png)"
      ]
    },
    {
      "cell_type": "code",
      "execution_count": 16,
      "id": "76dd12d7",
      "metadata": {},
      "outputs": [],
      "source": [
        "\n",
        "class DDAE:\n",
        "    \"\"\"\n",
        "    Easy wrapper for diffusion denoising autoencoder.\n",
        "    Combines DiffusionDenoiser (network) and DiffusionScheduler (noise injection).\n",
        "    Provides fit and predict methods.\n",
        "    \"\"\"\n",
        "    def __init__(\n",
        "            self, \n",
        "            # Denoiser parameters\n",
        "            input_dim,            \n",
        "            hidden_dim=[64, 64], \n",
        "            activation='lrelu', \n",
        "            # Diffusion parameters\n",
        "            num_timesteps=100, \n",
        "            beta_start=1e-4,\n",
        "            beta_end=0.02,\n",
        "            scheduler='linear',\n",
        "            # Time embedding parameters\n",
        "            time_emb_dim=4, \n",
        "            time_emb_type='sinusoidal', \n",
        "            # training parameters\n",
        "            epochs=100,\n",
        "            batch_size=64,\n",
        "            learning_rate=1e-3,\n",
        "            device=None,\n",
        "            eval_epochs=None,\n",
        "        ):\n",
        "        self.input_dim = input_dim\n",
        "        self.T = num_timesteps\n",
        "        self.device = device if device else torch.device(\"cpu\")\n",
        "        self.epochs = epochs\n",
        "        self.batch_size = batch_size\n",
        "        self.learning_rate = learning_rate\n",
        "        self.eval_epochs = eval_epochs if eval_epochs is not None else epochs\n",
        "\n",
        "        # Denoiser network\n",
        "        self.denoiser = DiffusionDenoiser(\n",
        "            input_dim=input_dim, \n",
        "            hidden_dims=hidden_dim, \n",
        "            time_emb_dim=time_emb_dim,\n",
        "            time_emb_type=time_emb_type,\n",
        "            activation=activation\n",
        "        ).to(self.device)\n",
        "\n",
        "        # Diffusion scheduler\n",
        "        self.scheduler = DiffusionScheduler(\n",
        "            num_timesteps=num_timesteps, \n",
        "            device=self.device,\n",
        "            beta_start=beta_start,\n",
        "            beta_end=beta_end,\n",
        "            scheduler=scheduler\n",
        "        )\n",
        "\n",
        "    def fit(self, x_train, x_test, y_train=None, y_test=None):\n",
        "        \"\"\"\n",
        "        Fit the diffusion denoising autoencoder to the training data.\n",
        "        Args:\n",
        "            x_train (torch.Tensor): Training data tensor of shape (num_samples, input_dim).\n",
        "            y_train (torch.Tensor, optional): Labels for training data (not used in unsupervised setting).\n",
        "        \"\"\"\n",
        "        optimizer = Adam(self.denoiser.parameters(), lr=self.learning_rate)\n",
        "        dataloader = DataLoader(x_train, batch_size=self.batch_size, shuffle=True)\n",
        "\n",
        "        for epoch in range(self.epochs):\n",
        "            # exp_run_statistics = {'epoch': epoch + 1, 'loss': 0.0}\n",
        "            self.denoiser.train()\n",
        "            total_loss = 0\n",
        "            for x_0 in dataloader:\n",
        "                x_0 = x_0.to(self.device)\n",
        "                batch_size = x_0.size(0)\n",
        "                t = torch.randint(1, self.T, (batch_size,), device=self.device).long()\n",
        "                # Forward process: Sample x_t and noise\n",
        "                x_t, noise = self.scheduler.q_sample(x_0, t)\n",
        "                # Predict noise\n",
        "                x_0_hat = self.denoiser(x_t, t.float())\n",
        "                # Loss: MSE between true noise and predicted noise\n",
        "                loss = nn.MSELoss()(x_0_hat, x_0)\n",
        "                total_loss += loss.item()\n",
        "                optimizer.zero_grad()\n",
        "                loss.backward()\n",
        "                optimizer.step()\n",
        "            \n",
        "            # Log statistics for the epoch\n",
        "            loss = total_loss / len(dataloader)\n",
        "\n",
        "            # evaluate model\n",
        "            if (epoch + 1) % self.eval_epochs == 0:\n",
        "                anomaly_scores = self.predict(x_test, y_test)\n",
        "                metrics = evaluate_anomaly_detection(anomaly_scores, y_test)\n",
        "                print(f\"Epoch {epoch+1}/{self.epochs}, Loss: {loss:.4f} | PR-AUC: {metrics['PR-AUC']:.4f}, ROC-AUC: {metrics['ROC-AUC']:.4f}\")\n",
        "\n",
        "    # Predict anomaly scores for the input data\n",
        "    def predict(self, x_test, y_test=None):\n",
        "        \"\"\"\n",
        "        Predict anomaly scores for the input data using the trained denoiser.\n",
        "        Args:\n",
        "            x_test (torch.Tensor): Test data tensor of shape (num_samples, input_dim).\n",
        "            y_test (torch.Tensor, optional): Labels for test data (not used in unsupervised setting).\n",
        "\n",
        "        Returns:\n",
        "            torch.Tensor: Anomaly scores for the input data.\n",
        "        \"\"\"\n",
        "        self.denoiser.eval()\n",
        "        batch_size = 8192 # 8192 is a good batch size for most GPUs\n",
        "        num_samples = x_test.size(0)\n",
        "        anomaly_scores = torch.zeros(num_samples)\n",
        "\n",
        "        with torch.no_grad():\n",
        "            for t in range(1, self.T):\n",
        "                for i in range(0, num_samples, batch_size):\n",
        "                    x_batch = x_test[i:i + batch_size].to(self.device)\n",
        "                    t_tensor = torch.tensor(t, dtype=torch.int64).repeat(x_batch.size(0)).to(self.device)\n",
        "                    x_t, _ = self.scheduler.q_sample(x_batch, t_tensor)\n",
        "                    x_0_hat = self.denoiser(x_t, t_tensor)\n",
        "                    scores = torch.norm(x_batch - x_0_hat, dim=1).cpu().numpy()\n",
        "                    anomaly_scores[i:i + batch_size] += scores\n",
        "        return anomaly_scores\n",
        "\n"
      ]
    },
    {
      "cell_type": "markdown",
      "id": "03086730",
      "metadata": {},
      "source": [
        "### Initialize the model"
      ]
    },
    {
      "cell_type": "code",
      "execution_count": 17,
      "id": "6acd3426",
      "metadata": {},
      "outputs": [],
      "source": [
        "# Initialize and train model\n",
        "model = DDAE(\n",
        "    input_dim=x_train.shape[1],\n",
        "    hidden_dim=[512, 512],\n",
        "    activation=\"lrelu\",\n",
        "    num_timesteps=100,\n",
        "    beta_start=0.0001,\n",
        "    beta_end= 0.02,\n",
        "    scheduler='linear',\n",
        "    time_emb_dim=4,\n",
        "    time_emb_type='sinusoidal',\n",
        "    epochs=100,\n",
        "    batch_size=256,\n",
        "    learning_rate=1e-3,\n",
        "    eval_epochs=10,\n",
        ")"
      ]
    },
    {
      "cell_type": "markdown",
      "id": "24de82d8",
      "metadata": {},
      "source": [
        "## 3. Train the model\n",
        "We train the model on the dataset and monitor the training loss."
      ]
    },
    {
      "cell_type": "code",
      "execution_count": 18,
      "id": "3a0597bf",
      "metadata": {},
      "outputs": [
        {
          "name": "stderr",
          "output_type": "stream",
          "text": [
            "/var/folders/hr/9sd04tdn71vf50y_zyl5j5g40000gn/T/ipykernel_1872/3999791440.py:116: DeprecationWarning: __array_wrap__ must accept context and return_scalar arguments (positionally) in the future. (Deprecated NumPy 2.0)\n",
            "  anomaly_scores[i:i + batch_size] += scores\n"
          ]
        },
        {
          "name": "stdout",
          "output_type": "stream",
          "text": [
            "Epoch 10/100, Loss: 0.4180 | PR-AUC: 0.6146, ROC-AUC: 0.7355\n"
          ]
        },
        {
          "name": "stderr",
          "output_type": "stream",
          "text": [
            "/var/folders/hr/9sd04tdn71vf50y_zyl5j5g40000gn/T/ipykernel_1872/3999791440.py:116: DeprecationWarning: __array_wrap__ must accept context and return_scalar arguments (positionally) in the future. (Deprecated NumPy 2.0)\n",
            "  anomaly_scores[i:i + batch_size] += scores\n"
          ]
        },
        {
          "name": "stdout",
          "output_type": "stream",
          "text": [
            "Epoch 20/100, Loss: 0.2714 | PR-AUC: 0.6926, ROC-AUC: 0.7961\n"
          ]
        },
        {
          "name": "stderr",
          "output_type": "stream",
          "text": [
            "/var/folders/hr/9sd04tdn71vf50y_zyl5j5g40000gn/T/ipykernel_1872/3999791440.py:116: DeprecationWarning: __array_wrap__ must accept context and return_scalar arguments (positionally) in the future. (Deprecated NumPy 2.0)\n",
            "  anomaly_scores[i:i + batch_size] += scores\n"
          ]
        },
        {
          "name": "stdout",
          "output_type": "stream",
          "text": [
            "Epoch 30/100, Loss: 0.2215 | PR-AUC: 0.7266, ROC-AUC: 0.8240\n"
          ]
        },
        {
          "name": "stderr",
          "output_type": "stream",
          "text": [
            "/var/folders/hr/9sd04tdn71vf50y_zyl5j5g40000gn/T/ipykernel_1872/3999791440.py:116: DeprecationWarning: __array_wrap__ must accept context and return_scalar arguments (positionally) in the future. (Deprecated NumPy 2.0)\n",
            "  anomaly_scores[i:i + batch_size] += scores\n"
          ]
        },
        {
          "name": "stdout",
          "output_type": "stream",
          "text": [
            "Epoch 40/100, Loss: 0.1863 | PR-AUC: 0.7450, ROC-AUC: 0.8402\n"
          ]
        },
        {
          "name": "stderr",
          "output_type": "stream",
          "text": [
            "/var/folders/hr/9sd04tdn71vf50y_zyl5j5g40000gn/T/ipykernel_1872/3999791440.py:116: DeprecationWarning: __array_wrap__ must accept context and return_scalar arguments (positionally) in the future. (Deprecated NumPy 2.0)\n",
            "  anomaly_scores[i:i + batch_size] += scores\n"
          ]
        },
        {
          "name": "stdout",
          "output_type": "stream",
          "text": [
            "Epoch 50/100, Loss: 0.1737 | PR-AUC: 0.7542, ROC-AUC: 0.8481\n"
          ]
        },
        {
          "name": "stderr",
          "output_type": "stream",
          "text": [
            "/var/folders/hr/9sd04tdn71vf50y_zyl5j5g40000gn/T/ipykernel_1872/3999791440.py:116: DeprecationWarning: __array_wrap__ must accept context and return_scalar arguments (positionally) in the future. (Deprecated NumPy 2.0)\n",
            "  anomaly_scores[i:i + batch_size] += scores\n"
          ]
        },
        {
          "name": "stdout",
          "output_type": "stream",
          "text": [
            "Epoch 60/100, Loss: 0.1611 | PR-AUC: 0.7615, ROC-AUC: 0.8558\n"
          ]
        },
        {
          "name": "stderr",
          "output_type": "stream",
          "text": [
            "/var/folders/hr/9sd04tdn71vf50y_zyl5j5g40000gn/T/ipykernel_1872/3999791440.py:116: DeprecationWarning: __array_wrap__ must accept context and return_scalar arguments (positionally) in the future. (Deprecated NumPy 2.0)\n",
            "  anomaly_scores[i:i + batch_size] += scores\n"
          ]
        },
        {
          "name": "stdout",
          "output_type": "stream",
          "text": [
            "Epoch 70/100, Loss: 0.1453 | PR-AUC: 0.7654, ROC-AUC: 0.8593\n"
          ]
        },
        {
          "name": "stderr",
          "output_type": "stream",
          "text": [
            "/var/folders/hr/9sd04tdn71vf50y_zyl5j5g40000gn/T/ipykernel_1872/3999791440.py:116: DeprecationWarning: __array_wrap__ must accept context and return_scalar arguments (positionally) in the future. (Deprecated NumPy 2.0)\n",
            "  anomaly_scores[i:i + batch_size] += scores\n"
          ]
        },
        {
          "name": "stdout",
          "output_type": "stream",
          "text": [
            "Epoch 80/100, Loss: 0.1312 | PR-AUC: 0.7714, ROC-AUC: 0.8644\n"
          ]
        },
        {
          "name": "stderr",
          "output_type": "stream",
          "text": [
            "/var/folders/hr/9sd04tdn71vf50y_zyl5j5g40000gn/T/ipykernel_1872/3999791440.py:116: DeprecationWarning: __array_wrap__ must accept context and return_scalar arguments (positionally) in the future. (Deprecated NumPy 2.0)\n",
            "  anomaly_scores[i:i + batch_size] += scores\n"
          ]
        },
        {
          "name": "stdout",
          "output_type": "stream",
          "text": [
            "Epoch 90/100, Loss: 0.1327 | PR-AUC: 0.7732, ROC-AUC: 0.8648\n"
          ]
        },
        {
          "name": "stderr",
          "output_type": "stream",
          "text": [
            "/var/folders/hr/9sd04tdn71vf50y_zyl5j5g40000gn/T/ipykernel_1872/3999791440.py:116: DeprecationWarning: __array_wrap__ must accept context and return_scalar arguments (positionally) in the future. (Deprecated NumPy 2.0)\n",
            "  anomaly_scores[i:i + batch_size] += scores\n"
          ]
        },
        {
          "name": "stdout",
          "output_type": "stream",
          "text": [
            "Epoch 100/100, Loss: 0.1214 | PR-AUC: 0.7752, ROC-AUC: 0.8668\n"
          ]
        }
      ],
      "source": [
        "model.fit(x_train, x_test, y_train, y_test)"
      ]
    },
    {
      "cell_type": "markdown",
      "id": "18195219",
      "metadata": {},
      "source": [
        "## 4. Predict anomaly scores\n",
        "We use the trained model to assign anomaly scores to each instance."
      ]
    },
    {
      "cell_type": "code",
      "execution_count": 19,
      "id": "c0c07db1",
      "metadata": {},
      "outputs": [
        {
          "name": "stderr",
          "output_type": "stream",
          "text": [
            "/var/folders/hr/9sd04tdn71vf50y_zyl5j5g40000gn/T/ipykernel_1872/3999791440.py:116: DeprecationWarning: __array_wrap__ must accept context and return_scalar arguments (positionally) in the future. (Deprecated NumPy 2.0)\n",
            "  anomaly_scores[i:i + batch_size] += scores\n"
          ]
        }
      ],
      "source": [
        "scores = model.predict(x_test)"
      ]
    },
    {
      "cell_type": "markdown",
      "id": "541afddd",
      "metadata": {},
      "source": [
        "## 5. Evaluation\n",
        "We evaluate the model using standard metrics such as ROC AUC."
      ]
    },
    {
      "cell_type": "code",
      "execution_count": 20,
      "id": "33369bc3",
      "metadata": {},
      "outputs": [
        {
          "name": "stdout",
          "output_type": "stream",
          "text": [
            "ROC AUC: 0.8667, PR AUC: 0.7752\n"
          ]
        },
        {
          "data": {
            "image/png": "[encoded data removed]",
            "text/plain": [
              "<Figure size 1000x500 with 1 Axes>"
            ]
          },
          "metadata": {},
          "output_type": "display_data"
        }
      ],
      "source": [
        "y_test = y_test.numpy()\n",
        "# compute evaluation metrics\n",
        "roc_auc = roc_auc_score(y_test, scores)\n",
        "precision, recall, _ = precision_recall_curve(y_test, scores)\n",
        "pr_auc = auc(recall, precision)\n",
        "print(f\"ROC AUC: {roc_auc:.4f}, PR AUC: {pr_auc:.4f}\")\n",
        "# Plotting the results\n",
        "plt.figure(figsize=(10, 5))\n",
        "plt.plot(recall, precision, label='Precision-Recall Curve')\n",
        "plt.fill_between(recall, precision, alpha=0.2)\n",
        "plt.title('Precision-Recall Curve')\n",
        "plt.xlabel('Recall')\n",
        "plt.ylabel('Precision')\n",
        "plt.legend()\n",
        "plt.grid()\n",
        "plt.show()"
      ]
    },
    {
      "cell_type": "markdown",
      "id": "01bb9151",
      "metadata": {},
      "source": [
        "## 6. Visualize anomaly score distribution\n"
      ]
    },
    {
      "cell_type": "code",
      "execution_count": 21,
      "id": "f707017b",
      "metadata": {},
      "outputs": [
        {
          "data": {
            "image/png": "[encoded data removed]",
            "text/plain": [
              "<Figure size 640x480 with 1 Axes>"
            ]
          },
          "metadata": {},
          "output_type": "display_data"
        }
      ],
      "source": [
        "plt.hist(scores, bins=50)\n",
        "plt.title(\"Anomaly Score Distribution\")\n",
        "plt.xlabel(\"Score\")\n",
        "plt.ylabel(\"Frequency\")\n",
        "plt.show()"
      ]
    },
    {
      "cell_type": "markdown",
      "id": "803c52ab",
      "metadata": {},
      "source": [
        "## ✅ Summary\n",
        "This notebook has demonstrated how to use the diffusion-based autoencoder for anomaly detection.\n",
        "\n",
        "Feel free to adapt it for your own datasets or extend it for other tasks. Contributions are welcome!\n"
      ]
    }
  ],
  "metadata": {
    "kernelspec": {
      "display_name": ".venv",
      "language": "python",
      "name": "python3"
    },
    "language_info": {
      "codemirror_mode": {
        "name": "ipython",
        "version": 3
      },
      "file_extension": ".py",
      "mimetype": "text/x-python",
      "name": "python",
      "nbconvert_exporter": "python",
      "pygments_lexer": "ipython3",
      "version": "3.11.11"
    }
  },
  "nbformat": 4,
  "nbformat_minor": 5
}
